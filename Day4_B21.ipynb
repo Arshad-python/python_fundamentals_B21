{
 "cells": [
  {
   "cell_type": "code",
   "execution_count": 1,
   "metadata": {},
   "outputs": [
    {
     "data": {
      "text/plain": [
       "list"
      ]
     },
     "execution_count": 1,
     "metadata": {},
     "output_type": "execute_result"
    }
   ],
   "source": [
    "students=['shaguftayasmeen','faiyaz','deepak','nikhil','bhoomika','kiran']  #creating list\n",
    "type(students)   #to know the type "
   ]
  },
  {
   "cell_type": "code",
   "execution_count": 2,
   "metadata": {},
   "outputs": [
    {
     "name": "stdout",
     "output_type": "stream",
     "text": [
      "['shaguftayasmeen', 'faiyaz', 'deepak', 'nikhil', 'bhoomika', 'kiran']\n"
     ]
    }
   ],
   "source": [
    "print(students)"
   ]
  },
  {
   "cell_type": "code",
   "execution_count": 3,
   "metadata": {},
   "outputs": [
    {
     "name": "stdout",
     "output_type": "stream",
     "text": [
      "shaguftayasmeen\n"
     ]
    }
   ],
   "source": [
    "print(students[0])    #to get first name"
   ]
  },
  {
   "cell_type": "code",
   "execution_count": 4,
   "metadata": {},
   "outputs": [
    {
     "name": "stdout",
     "output_type": "stream",
     "text": [
      "['shaguftayasmeen', 'faiyaz', 'deepak']\n"
     ]
    }
   ],
   "source": [
    "print(students[0:3])    #to get names from starting to reuired position"
   ]
  },
  {
   "cell_type": "code",
   "execution_count": 19,
   "metadata": {},
   "outputs": [
    {
     "name": "stdout",
     "output_type": "stream",
     "text": [
      "['deepak', 'nikhil', 'bhoomika', 'kiran']\n"
     ]
    }
   ],
   "source": [
    "print(students[-4:])    #to get names of last four positions"
   ]
  },
  {
   "cell_type": "code",
   "execution_count": 20,
   "metadata": {},
   "outputs": [
    {
     "name": "stdout",
     "output_type": "stream",
     "text": [
      "['shaguftayasmeen', 'Arshad', 'deepak', 'nikhil', 'bhoomika', 'kiran']\n"
     ]
    }
   ],
   "source": [
    "students[1]='Arshad'    #to change name of reuired position(reassignment)\n",
    "print(students)"
   ]
  },
  {
   "cell_type": "code",
   "execution_count": 21,
   "metadata": {},
   "outputs": [
    {
     "name": "stdout",
     "output_type": "stream",
     "text": [
      "['shaguftayasmeen', 'Arshad', 'deepak', 'nikhil', 'bhoomika', 'kiran', 'basha']\n"
     ]
    }
   ],
   "source": [
    "students.append('basha')    #to add name in last position\n",
    "print(students)"
   ]
  },
  {
   "cell_type": "code",
   "execution_count": 22,
   "metadata": {},
   "outputs": [
    {
     "name": "stdout",
     "output_type": "stream",
     "text": [
      "['shaguftayasmeen', 'Arshad', 'ezaz', 'deepak', 'nikhil', 'bhoomika', 'kiran', 'basha']\n"
     ]
    }
   ],
   "source": [
    "students.insert(2,'ezaz')    # adding name in reuired position\n",
    "print(students)"
   ]
  },
  {
   "cell_type": "code",
   "execution_count": 23,
   "metadata": {},
   "outputs": [
    {
     "name": "stdout",
     "output_type": "stream",
     "text": [
      "['shaguftayasmeen', 'pasha', 'Arshad', 'ezaz', 'deepak', 'nikhil', 'bhoomika', 'kiran', 'basha']\n"
     ]
    }
   ],
   "source": [
    "students.insert(1,'pasha')\n",
    "print(students)"
   ]
  },
  {
   "cell_type": "code",
   "execution_count": 26,
   "metadata": {},
   "outputs": [
    {
     "name": "stdout",
     "output_type": "stream",
     "text": [
      "['shaguftayasmeen', 'Arshad', 'ezaz', 'deepak', 'nikhil', 'bhoomika', 'kiran', 'basha']\n"
     ]
    }
   ],
   "source": [
    "del(students[1])    #delete the reuired name \n",
    "print(students)"
   ]
  },
  {
   "cell_type": "code",
   "execution_count": 27,
   "metadata": {},
   "outputs": [
    {
     "name": "stdout",
     "output_type": "stream",
     "text": [
      "basha\n"
     ]
    }
   ],
   "source": [
    "x=students.pop()    #creating carbon copy\n",
    "print(x)"
   ]
  },
  {
   "cell_type": "code",
   "execution_count": 29,
   "metadata": {},
   "outputs": [
    {
     "name": "stdout",
     "output_type": "stream",
     "text": [
      "kiran\n"
     ]
    }
   ],
   "source": [
    "x=students.pop()\n",
    "print(x)"
   ]
  },
  {
   "cell_type": "code",
   "execution_count": null,
   "metadata": {},
   "outputs": [],
   "source": []
  }
 ],
 "metadata": {
  "kernelspec": {
   "display_name": "Python 3",
   "language": "python",
   "name": "python3"
  },
  "language_info": {
   "codemirror_mode": {
    "name": "ipython",
    "version": 3
   },
   "file_extension": ".py",
   "mimetype": "text/x-python",
   "name": "python",
   "nbconvert_exporter": "python",
   "pygments_lexer": "ipython3",
   "version": "3.7.6"
  }
 },
 "nbformat": 4,
 "nbformat_minor": 4
}
